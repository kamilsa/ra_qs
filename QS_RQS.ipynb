{
 "cells": [
  {
   "cell_type": "code",
   "execution_count": 1,
   "metadata": {
    "collapsed": true
   },
   "outputs": [],
   "source": [
    "import numpy as np\n",
    "from random import shuffle"
   ]
  },
  {
   "cell_type": "code",
   "execution_count": 15,
   "metadata": {
    "collapsed": false
   },
   "outputs": [],
   "source": [
    "# arr1 = np.random.randint(10**5, size=10**5)\n",
    "# arr2 = np.random.randint(10**5, size=10**5)\n",
    "# arr3 = np.random.randint(10**5, size=10**5)"
   ]
  },
  {
   "cell_type": "code",
   "execution_count": 16,
   "metadata": {
    "collapsed": true
   },
   "outputs": [],
   "source": [
    "import pickle"
   ]
  },
  {
   "cell_type": "code",
   "execution_count": 17,
   "metadata": {
    "collapsed": true
   },
   "outputs": [],
   "source": [
    "# pickle.dump(arr1, open('arr1.pickle', 'wb'))\n",
    "# pickle.dump(arr2, open('arr2.pickle', 'wb'))\n",
    "# pickle.dump(arr3, open('arr3.pickle', 'wb'))"
   ]
  },
  {
   "cell_type": "code",
   "execution_count": 18,
   "metadata": {
    "collapsed": false
   },
   "outputs": [],
   "source": [
    "arr1 = pickle.load(open('arr1.pickle', 'rb'))\n",
    "arr2 = pickle.load(open('arr2.pickle', 'rb'))\n",
    "arr3 = pickle.load(open('arr3.pickle', 'rb'))"
   ]
  },
  {
   "cell_type": "code",
   "execution_count": 21,
   "metadata": {
    "collapsed": false
   },
   "outputs": [],
   "source": [
    "def qs(arr):\n",
    "    global cprs\n",
    "    if arr == []:\n",
    "        return arr\n",
    "    pivot = arr[0]\n",
    "    less = []\n",
    "    greater = []\n",
    "    equal = []\n",
    "    for el in arr:\n",
    "        cprs += 1\n",
    "        if el < pivot:\n",
    "            less.append(el)\n",
    "        elif el > pivot:\n",
    "            greater.append(el)\n",
    "        else:\n",
    "            equal.append(el)\n",
    "    return qs(less) + equal + qs(greater)\n",
    "\n",
    "def rand_qs(arr):\n",
    "    global cprs\n",
    "    if arr == []:\n",
    "        return arr\n",
    "    pivot = np.random.choice(arr)\n",
    "    less = []\n",
    "    greater = []\n",
    "    equal = []\n",
    "    for el in arr:\n",
    "        cprs += 1\n",
    "        if el < pivot:\n",
    "            less.append(el)\n",
    "        elif el > pivot:\n",
    "            greater.append(el)\n",
    "        else:\n",
    "            equal.append(el)\n",
    "    return rand_qs(less) + equal + rand_qs(greater)"
   ]
  },
  {
   "cell_type": "code",
   "execution_count": 22,
   "metadata": {
    "collapsed": true
   },
   "outputs": [],
   "source": [
    "from time import time"
   ]
  },
  {
   "cell_type": "code",
   "execution_count": 23,
   "metadata": {
    "collapsed": false
   },
   "outputs": [
    {
     "name": "stdout",
     "output_type": "stream",
     "text": [
      "quick sort\n",
      "mean time for arr1: 0.690721821785 mean comparisons done for arr1: 1903851.0\n"
     ]
    },
    {
     "name": "stderr",
     "output_type": "stream",
     "text": [
      "/Users/kamil/miniconda3/envs/venv/lib/python3.5/site-packages/ipykernel/__main__.py:3: DeprecationWarning: elementwise == comparison failed; this will raise an error in the future.\n",
      "  app.launch_new_instance()\n"
     ]
    }
   ],
   "source": [
    "times = []\n",
    "cprss = []\n",
    "arr_to_sort = arr1\n",
    "for i in range(10):\n",
    "    start = time()\n",
    "    cprs = 0\n",
    "    res = qs(arr_to_sort)\n",
    "    finish = time()\n",
    "    times.append(finish-start)\n",
    "    cprss.append(cprs)\n",
    "print(\"quick sort\")\n",
    "print(\"mean time for arr1:\",np.mean(times), \"mean comparisons done for arr1:\", np.mean(cprss))"
   ]
  },
  {
   "cell_type": "code",
   "execution_count": 24,
   "metadata": {
    "collapsed": false
   },
   "outputs": [
    {
     "name": "stdout",
     "output_type": "stream",
     "text": [
      "random quick sort\n",
      "mean time for arr1: 1.34166564941 mean comparisons done for arr1: 2004396.2\n"
     ]
    },
    {
     "name": "stderr",
     "output_type": "stream",
     "text": [
      "/Users/kamil/miniconda3/envs/venv/lib/python3.5/site-packages/ipykernel/__main__.py:21: DeprecationWarning: elementwise == comparison failed; this will raise an error in the future.\n"
     ]
    }
   ],
   "source": [
    "times = []\n",
    "cprss = []\n",
    "arr_to_sort = arr1\n",
    "for i in range(10):\n",
    "    start = time()\n",
    "    cprs = 0\n",
    "    res = rand_qs(arr_to_sort)\n",
    "    finish = time()\n",
    "    times.append(finish-start)\n",
    "    cprss.append(cprs)\n",
    "print(\"random quick sort\")\n",
    "print(\"mean time for arr1:\",np.mean(times), \"mean comparisons done for arr1:\", np.mean(cprss))"
   ]
  },
  {
   "cell_type": "code",
   "execution_count": 26,
   "metadata": {
    "collapsed": false
   },
   "outputs": [
    {
     "name": "stdout",
     "output_type": "stream",
     "text": [
      "quick sort\n",
      "mean time for arr2: 0.91589846611 mean comparisons done for arr2: 2052118.0\n"
     ]
    },
    {
     "name": "stderr",
     "output_type": "stream",
     "text": [
      "/Users/kamil/miniconda3/envs/venv/lib/python3.5/site-packages/ipykernel/__main__.py:3: DeprecationWarning: elementwise == comparison failed; this will raise an error in the future.\n",
      "  app.launch_new_instance()\n"
     ]
    }
   ],
   "source": [
    "times = []\n",
    "cprss = []\n",
    "arr_to_sort = arr2\n",
    "for i in range(10):\n",
    "    start = time()\n",
    "    cprs = 0\n",
    "    res = qs(arr_to_sort)\n",
    "    finish = time()\n",
    "    times.append(finish-start)\n",
    "    cprss.append(cprs)\n",
    "print(\"quick sort\")\n",
    "print(\"mean time for arr2:\",np.mean(times), \"mean comparisons done for arr2:\", np.mean(cprss))"
   ]
  },
  {
   "cell_type": "code",
   "execution_count": 27,
   "metadata": {
    "collapsed": false
   },
   "outputs": [
    {
     "name": "stdout",
     "output_type": "stream",
     "text": [
      "random quick sort\n",
      "mean time for arr2: 1.64806787968 mean comparisons done for arr2: 1998313.3\n"
     ]
    },
    {
     "name": "stderr",
     "output_type": "stream",
     "text": [
      "/Users/kamil/miniconda3/envs/venv/lib/python3.5/site-packages/ipykernel/__main__.py:21: DeprecationWarning: elementwise == comparison failed; this will raise an error in the future.\n"
     ]
    }
   ],
   "source": [
    "times = []\n",
    "cprss = []\n",
    "arr_to_sort = arr2\n",
    "for i in range(10):\n",
    "    start = time()\n",
    "    cprs = 0\n",
    "    res = rand_qs(arr_to_sort)\n",
    "    finish = time()\n",
    "    times.append(finish-start)\n",
    "    cprss.append(cprs)\n",
    "print(\"random quick sort\")\n",
    "print(\"mean time for arr2:\",np.mean(times), \"mean comparisons done for arr2:\", np.mean(cprss))"
   ]
  },
  {
   "cell_type": "code",
   "execution_count": 29,
   "metadata": {
    "collapsed": false
   },
   "outputs": [
    {
     "name": "stdout",
     "output_type": "stream",
     "text": [
      "quick sort\n",
      "mean time for arr3: 0.863745903969 mean comparisons done for arr3: 1903851.0\n"
     ]
    },
    {
     "name": "stderr",
     "output_type": "stream",
     "text": [
      "/Users/kamil/miniconda3/envs/venv/lib/python3.5/site-packages/ipykernel/__main__.py:3: DeprecationWarning: elementwise == comparison failed; this will raise an error in the future.\n",
      "  app.launch_new_instance()\n"
     ]
    }
   ],
   "source": [
    "times = []\n",
    "cprss = []\n",
    "arr_to_sort = arr3\n",
    "for i in range(10):\n",
    "    start = time()\n",
    "    cprs = 0\n",
    "    res = qs(arr_to_sort)\n",
    "    finish = time()\n",
    "    times.append(finish-start)\n",
    "    cprss.append(cprs)\n",
    "print(\"quick sort\")    \n",
    "print(\"mean time for arr3:\",np.mean(times), \"mean comparisons done for arr3:\", np.mean(cprss))"
   ]
  },
  {
   "cell_type": "code",
   "execution_count": 30,
   "metadata": {
    "collapsed": false
   },
   "outputs": [
    {
     "name": "stdout",
     "output_type": "stream",
     "text": [
      "random quick sort\n",
      "mean time for arr3: 1.46418597698 mean comparisons done for arr3: 1964402.7\n"
     ]
    },
    {
     "name": "stderr",
     "output_type": "stream",
     "text": [
      "/Users/kamil/miniconda3/envs/venv/lib/python3.5/site-packages/ipykernel/__main__.py:21: DeprecationWarning: elementwise == comparison failed; this will raise an error in the future.\n"
     ]
    }
   ],
   "source": [
    "times = []\n",
    "cprss = []\n",
    "arr_to_sort = arr3\n",
    "for i in range(10):\n",
    "    start = time()\n",
    "    cprs = 0\n",
    "    res = rand_qs(arr_to_sort)\n",
    "    finish = time()\n",
    "    times.append(finish-start)\n",
    "    cprss.append(cprs)\n",
    "print(\"random quick sort\")    \n",
    "print(\"mean time for arr3:\",np.mean(times), \"mean comparisons done for arr3:\", np.mean(cprss))"
   ]
  },
  {
   "cell_type": "code",
   "execution_count": 32,
   "metadata": {
    "collapsed": false,
    "scrolled": true
   },
   "outputs": [
    {
     "name": "stdout",
     "output_type": "stream",
     "text": [
      "1 done\n",
      "1001 done\n",
      "2001 done\n",
      "3001 done\n",
      "4001 done\n",
      "5001 done\n",
      "6001 done\n",
      "7001 done\n",
      "8001 done\n",
      "9001 done\n",
      "10001 done\n",
      "11001 done\n",
      "12001 done\n",
      "13001 done\n",
      "14001 done\n",
      "15001 done\n",
      "16001 done\n",
      "17001 done\n",
      "18001 done\n",
      "19001 done\n",
      "20001 done\n",
      "21001 done\n",
      "22001 done\n",
      "23001 done\n",
      "24001 done\n",
      "25001 done\n",
      "26001 done\n",
      "27001 done\n",
      "28001 done\n",
      "29001 done\n",
      "30001 done\n",
      "31001 done\n",
      "32001 done\n",
      "33001 done\n",
      "34001 done\n",
      "35001 done\n",
      "36001 done\n",
      "37001 done\n",
      "38001 done\n",
      "39001 done\n",
      "40001 done\n",
      "41001 done\n",
      "42001 done\n",
      "43001 done\n",
      "44001 done\n",
      "45001 done\n",
      "46001 done\n",
      "47001 done\n",
      "48001 done\n",
      "49001 done\n",
      "50001 done\n",
      "51001 done\n",
      "52001 done\n",
      "53001 done\n",
      "54001 done\n",
      "55001 done\n",
      "56001 done\n",
      "57001 done\n",
      "58001 done\n",
      "59001 done\n",
      "60001 done\n",
      "61001 done\n",
      "62001 done\n",
      "63001 done\n",
      "64001 done\n",
      "65001 done\n",
      "66001 done\n",
      "67001 done\n",
      "68001 done\n",
      "69001 done\n",
      "70001 done\n",
      "71001 done\n",
      "72001 done\n",
      "73001 done\n",
      "74001 done\n",
      "75001 done\n",
      "76001 done\n",
      "77001 done\n",
      "78001 done\n",
      "79001 done\n",
      "80001 done\n",
      "81001 done\n",
      "82001 done\n",
      "83001 done\n",
      "84001 done\n",
      "85001 done\n",
      "86001 done\n",
      "87001 done\n",
      "88001 done\n",
      "89001 done\n",
      "90001 done\n",
      "91001 done\n",
      "92001 done\n",
      "93001 done\n",
      "94001 done\n",
      "95001 done\n",
      "96001 done\n",
      "97001 done\n",
      "98001 done\n",
      "99001 done\n"
     ]
    },
    {
     "name": "stderr",
     "output_type": "stream",
     "text": [
      "/Users/kamil/miniconda3/envs/venv/lib/python3.5/site-packages/ipykernel/__main__.py:3: DeprecationWarning: elementwise == comparison failed; this will raise an error in the future.\n",
      "  app.launch_new_instance()\n",
      "/Users/kamil/miniconda3/envs/venv/lib/python3.5/site-packages/ipykernel/__main__.py:21: DeprecationWarning: elementwise == comparison failed; this will raise an error in the future.\n"
     ]
    }
   ],
   "source": [
    "qs_times = []\n",
    "rqs_times = []\n",
    "qs_cprss = []\n",
    "rqs_cprss = []\n",
    "for size in range(1,10**5+1,10**3):\n",
    "    cprs = 0\n",
    "    arr = np.random.randint(10**5, size=size)\n",
    "    start = time()\n",
    "    qs(arr)\n",
    "    finish = time()\n",
    "    qs_times.append(finish-start)\n",
    "    qs_cprss.append(cprs)\n",
    "    \n",
    "    cprs = 0\n",
    "    arr = np.random.randint(10**5, size=size)\n",
    "    start = time()\n",
    "    rand_qs(arr)\n",
    "    finish = time()\n",
    "    rqs_times.append(finish-start)\n",
    "    rqs_cprss.append(cprs)\n",
    "    print(size, 'done')"
   ]
  },
  {
   "cell_type": "code",
   "execution_count": 43,
   "metadata": {
    "collapsed": false
   },
   "outputs": [
    {
     "data": {
      "text/plain": [
       "<matplotlib.text.Text at 0x10d3297f0>"
      ]
     },
     "execution_count": 43,
     "metadata": {},
     "output_type": "execute_result"
    },
    {
     "data": {
      "image/png": "[encoded data removed]",
      "text/plain": [
       "<matplotlib.figure.Figure at 0x10d809518>"
      ]
     },
     "metadata": {},
     "output_type": "display_data"
    }
   ],
   "source": [
    "%matplotlib inline\n",
    "import matplotlib.pyplot as plt\n",
    "plt.plot(qs_times,'r-', rqs_times, 'b-')\n",
    "plt.legend(('qs', 'rqs'), loc=2)\n",
    "plt.ylabel(\"Time consumed (s)\")\n",
    "plt.xlabel(\"# of elements (10^3)\")"
   ]
  },
  {
   "cell_type": "code",
   "execution_count": 44,
   "metadata": {
    "collapsed": false
   },
   "outputs": [
    {
     "data": {
      "text/plain": [
       "<matplotlib.text.Text at 0x10d789160>"
      ]
     },
     "execution_count": 44,
     "metadata": {},
     "output_type": "execute_result"
    },
    {
     "data": {
      "image/png": "[encoded data removed]",
      "text/plain": [
       "<matplotlib.figure.Figure at 0x10d87b0b8>"
      ]
     },
     "metadata": {},
     "output_type": "display_data"
    }
   ],
   "source": [
    "%matplotlib inline\n",
    "import matplotlib.pyplot as plt\n",
    "plt.plot(qs_cprss,'r-', rqs_cprss, 'b-')\n",
    "plt.legend(('qs', 'rqs'), loc=2)\n",
    "plt.ylabel(\"# of comparisons\")\n",
    "plt.xlabel(\"# of elements (10^3)\")"
   ]
  },
  {
   "cell_type": "code",
   "execution_count": null,
   "metadata": {
    "collapsed": true
   },
   "outputs": [],
   "source": []
  }
 ],
 "metadata": {
  "anaconda-cloud": {},
  "kernelspec": {
   "display_name": "Python [conda env:venv]",
   "language": "python",
   "name": "conda-env-venv-py"
  },
  "language_info": {
   "codemirror_mode": {
    "name": "ipython",
    "version": 3
   },
   "file_extension": ".py",
   "mimetype": "text/x-python",
   "name": "python",
   "nbconvert_exporter": "python",
   "pygments_lexer": "ipython3",
   "version": "3.5.2"
  }
 },
 "nbformat": 4,
 "nbformat_minor": 0
}
